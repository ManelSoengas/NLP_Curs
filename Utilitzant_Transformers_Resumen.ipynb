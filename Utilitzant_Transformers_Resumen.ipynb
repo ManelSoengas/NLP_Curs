{
  "nbformat": 4,
  "nbformat_minor": 0,
  "metadata": {
    "colab": {
      "provenance": [],
      "authorship_tag": "ABX9TyPR/ldVHl+GKRKqeibsswGP",
      "include_colab_link": true
    },
    "kernelspec": {
      "name": "python3",
      "display_name": "Python 3"
    },
    "language_info": {
      "name": "python"
    }
  },
  "cells": [
    {
      "cell_type": "markdown",
      "metadata": {
        "id": "view-in-github",
        "colab_type": "text"
      },
      "source": [
        "<a href=\"https://colab.research.google.com/github/ManelSoengas/NLP_Curs/blob/main/Utilitzant_Transformers_Resumen.ipynb\" target=\"_parent\"><img src=\"https://colab.research.google.com/assets/colab-badge.svg\" alt=\"Open In Colab\"/></a>"
      ]
    },
    {
      "cell_type": "markdown",
      "source": [
        "# **Resum**\n",
        "\n",
        "---\n",
        "Introducció al concepte de resum automàtic de textos (text summarization), una de les aplicacions més avançades i útils del processament del llenguatge natural (NLP) amb models Transformer, com T5, BART o LLaMA.\n",
        "\n",
        "**Què és el text summarization?**\n",
        "\n",
        "És una tasca de NLP que consisteix a:\n",
        "\n",
        "1. Llegir i entendre un text llarg\n",
        "\n",
        "1. Generar un resum breu i coherent que n’expressi les idees principals\n",
        "\n",
        "**Per què és difícil?**\n",
        "\n",
        "A diferència d’altres tasques com traducció o classificació de text, fer un bon resum requereix:\n",
        "\n",
        "1. Comprensió profunda del contingut\n",
        "\n",
        "1. Identificar les idees clau i ignorar el soroll\n",
        "\n",
        "**Generar text nou que sigui:**\n",
        "\n",
        "1. Gramaticalment correcte\n",
        "\n",
        "1. Coherent\n",
        "\n",
        "1. Fidel al significat original\n",
        "\n",
        "1. És a dir, el model ha d’entendre, seleccionar i expressar, tot alhora.\n",
        "\n",
        "\n",
        "Els models encoder-decoder com T5 o BART són especialment bons per aquesta tasca. Funcionen així:\n",
        "\n",
        "* **Encoder**: Llegeix tot el text d’entrada i crea una representació interna rica.\n",
        "\n",
        "* **Decoder**: A partir d’aquesta representació, genera el resum paraula a paraula.\n",
        "\n",
        "\n"
      ],
      "metadata": {
        "id": "tROazb7NJkla"
      }
    },
    {
      "cell_type": "code",
      "execution_count": null,
      "metadata": {
        "id": "kG1FiEbSJbP9"
      },
      "outputs": [],
      "source": []
    }
  ]
}