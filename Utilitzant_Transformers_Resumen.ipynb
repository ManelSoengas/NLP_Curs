{
  "nbformat": 4,
  "nbformat_minor": 0,
  "metadata": {
    "colab": {
      "provenance": [],
      "gpuType": "T4",
      "authorship_tag": "ABX9TyMcrBV2AUh3EvnrmdILGCKD",
      "include_colab_link": true
    },
    "kernelspec": {
      "name": "python3",
      "display_name": "Python 3"
    },
    "language_info": {
      "name": "python"
    },
    "accelerator": "GPU"
  },
  "cells": [
    {
      "cell_type": "markdown",
      "metadata": {
        "id": "view-in-github",
        "colab_type": "text"
      },
      "source": [
        "<a href=\"https://colab.research.google.com/github/ManelSoengas/NLP_Curs/blob/main/Utilitzant_Transformers_Resumen.ipynb\" target=\"_parent\"><img src=\"https://colab.research.google.com/assets/colab-badge.svg\" alt=\"Open In Colab\"/></a>"
      ]
    },
    {
      "cell_type": "markdown",
      "source": [
        "# **Resum**\n",
        "\n",
        "---\n",
        "Introducció al concepte de resum automàtic de textos (text summarization), una de les aplicacions més avançades i útils del processament del llenguatge natural (NLP) amb models Transformer, com T5, BART o LLaMA.\n",
        "\n",
        "**Què és el text summarization?**\n",
        "\n",
        "És una tasca de NLP que consisteix a:\n",
        "\n",
        "1. Llegir i entendre un text llarg\n",
        "\n",
        "1. Generar un resum breu i coherent que n’expressi les idees principals\n",
        "\n",
        "**Per què és difícil?**\n",
        "\n",
        "A diferència d’altres tasques com traducció o classificació de text, fer un bon resum requereix:\n",
        "\n",
        "1. Comprensió profunda del contingut\n",
        "\n",
        "1. Identificar les idees clau i ignorar el soroll\n",
        "\n",
        "**Generar text nou que sigui:**\n",
        "\n",
        "1. Gramaticalment correcte\n",
        "\n",
        "1. Coherent\n",
        "\n",
        "1. Fidel al significat original\n",
        "\n",
        "1. És a dir, el model ha d’entendre, seleccionar i expressar, tot alhora.\n",
        "\n",
        "\n",
        "Els models encoder-decoder com T5 o BART són especialment bons per aquesta tasca. Funcionen així:\n",
        "\n",
        "* **Encoder**: Llegeix tot el text d’entrada i crea una representació interna rica.\n",
        "\n",
        "* **Decoder**: A partir d’aquesta representació, genera el resum paraula a paraula.\n",
        "\n",
        "\n"
      ],
      "metadata": {
        "id": "tROazb7NJkla"
      }
    },
    {
      "cell_type": "markdown",
      "source": [
        "# **Elaboració d'un corpus multilingüe**\n",
        "\n",
        "---\n",
        "El datset que conté ressenyes de productes d'Amazon escrites en sis idiomes (incloent-hi l'anglès i l'espanyol). Normalment, s'utilitza per entrenar o avaluar classificadors multilingües, és a dir, models que poden entendre i treballar amb més d'un idioma.\n",
        "\n",
        "**Objectiu del quadern:**\n",
        "\n",
        "L'objectiu és crear un model que pugui resumir ressenyes de productes en anglès i espanyol. Aquest model serà un resumidor bilingüe (bilingual summarizer), capaç de llegir textos llargs (ressenyes) i generar un resum curt (en aquest cas, un títol).\n",
        "\n",
        "**Com s'utilitza el corpus?**\n",
        "\n",
        "1. Text complet de la ressenya → s’utilitza com a entrada (input) del model.\n",
        "\n",
        "1. Títol de la ressenya → s’utilitza com a resum esperat (target output o label) que el model ha d’aprendre a generar.\n",
        "\n",
        "1. Això converteix el problema en una tasca de text summarization supervisada, ja que tens parelles \"entrada-resposta\".\n"
      ],
      "metadata": {
        "id": "REYt5gEavmZp"
      }
    },
    {
      "cell_type": "code",
      "execution_count": null,
      "metadata": {
        "id": "kG1FiEbSJbP9"
      },
      "outputs": [],
      "source": [
        "!pip install datasets\n",
        "from datasets import load_dataset\n",
        "\n",
        "spanish_dataset = load_dataset(\"neonwatty/amazon_reviews_multi\", \"es\")\n",
        "english_dataset = load_dataset(\"neonwatty/amazon_reviews_multi\", \"en\")\n",
        "english_dataset\n",
        "\n",
        "# Descàrrega del dataset https://huggingface.co/datasets/mteb/amazon_reviews_multi"
      ]
    },
    {
      "cell_type": "code",
      "source": [
        "def show_samples(dataset, num_samples=3, seed=42):\n",
        "    sample = dataset[\"train\"].shuffle(seed=seed).select(range(num_samples))\n",
        "    for example in sample:\n",
        "        print(f\"\\n'>> Title: {example['review_title']}'\")\n",
        "        print(f\"'>> Review: {example['review_body']}'\")\n",
        "\n",
        "\n",
        "show_samples(english_dataset)"
      ],
      "metadata": {
        "id": "Ld383pspw5Fp"
      },
      "execution_count": null,
      "outputs": []
    },
    {
      "cell_type": "code",
      "source": [
        "english_dataset.set_format(\"pandas\")\n",
        "english_df = english_dataset[\"train\"][:]\n",
        "# Show counts for top 20 products\n",
        "english_df[\"stars\"].value_counts()[:20]"
      ],
      "metadata": {
        "id": "n4sugz8Z1AV2"
      },
      "execution_count": null,
      "outputs": []
    },
    {
      "cell_type": "markdown",
      "source": [
        "Es preparen les dades abans d’entrenar un model de resum automàtic bilingüe (anglès i espanyol). Et detallo el contingut pas a pas:\n",
        "\n",
        "1. **Context: Domini de les dades**\n",
        "\n",
        "\"the reviews are not strictly about books...\"\n",
        "\n",
        "Vol dir que les ressenyes que tenim no són exclusivament sobre llibres, sinó també sobre calendaris, aplicacions com OneNote, etc. Tot i això, el contingut general (reviews de productes) continua sent adequat per entrenar un model de resum (summarization model).\n",
        "\n",
        "2. **Objectiu: Crear un únic dataset bilingüe**\n",
        "\n",
        "Per entrenar un únic model amb dades en anglès i espanyol, cal combinar els dos conjunts (english_dataset i spanish_dataset) en una única estructura de dades que contingui:\n",
        "\n",
        "  * Les ressenyes (review_body) com a input\n",
        "\n",
        "  * Els títols (review_title) com a resum esperat\n",
        "\n",
        "I que barregi idiomes per evitar biaixos per ordre o idioma"
      ],
      "metadata": {
        "id": "EL0mOvbM5THf"
      }
    },
    {
      "cell_type": "code",
      "source": [
        "from datasets import concatenate_datasets\n"
      ],
      "metadata": {
        "id": "9k-dN8hQ51YJ"
      },
      "execution_count": 14,
      "outputs": []
    },
    {
      "cell_type": "code",
      "source": [
        "bilingual_dataset = {}\n",
        "for split in [\"train\", \"validation\", \"test\"]:\n",
        "    combined = concatenate_datasets([english_dataset[split], spanish_dataset[split]])\n",
        "    bilingual_dataset[split] = combined.shuffle(seed=42)\n"
      ],
      "metadata": {
        "id": "std5ch0k6Ry_"
      },
      "execution_count": 15,
      "outputs": []
    },
    {
      "cell_type": "code",
      "source": [
        "from datasets import DatasetDict\n",
        "bilingual_dataset = DatasetDict(bilingual_dataset)\n"
      ],
      "metadata": {
        "id": "sDkwtbWb6YtX"
      },
      "execution_count": 16,
      "outputs": []
    },
    {
      "cell_type": "code",
      "source": [
        "show_samples(bilingual_dataset)"
      ],
      "metadata": {
        "id": "vF3rsEDL6gBv"
      },
      "execution_count": null,
      "outputs": []
    },
    {
      "cell_type": "code",
      "source": [
        "bilingual_dataset"
      ],
      "metadata": {
        "id": "taaWfgTk6__0"
      },
      "execution_count": null,
      "outputs": []
    },
    {
      "cell_type": "markdown",
      "source": [
        "# **Preprocessat de les dades**\n",
        "\n",
        "---\n",
        "El següent pas el la tokenització, que és essencial abans d’entrenar qualsevol model de llenguatge com mT5. Et resumeixo i t’explico els punts clau:\n",
        "\n",
        "1. **Objectiu del pas**\n",
        "\n",
        "\"tokenize and encode our reviews and their titles\"\n",
        "\n",
        "Vol dir que volem convertir el text en números que el model pugui entendre:\n",
        "\n",
        "  * El cos de la ressenya (review_body) serà la entrada del model.\n",
        "\n",
        "  * El títol de la ressenya (review_title) serà la sortida esperada (target o label) per al model.\n",
        "\n",
        "2. **Què és tokenitzar?**\n",
        "\n",
        "La tokenització és el procés de transformar frases en seqüències de tokens, que després es codifiquen en nombres enters que el model pot processar.\n",
        "\n",
        "Exemple simplificat:\n",
        "\n",
        "\n",
        "\n",
        "```\n",
        "\"El gat dorm\" → [\"▁El\", \"▁gat\", \"▁dorm\"] → [101, 4023, 8734]\n",
        "Aquests números representen les paraules al vocabulari del model.\n",
        "```\n",
        "\n",
        "\n",
        "3. **Per què carregar el tokenizer del model mT5?**\n",
        "\n",
        "Per garantir que la tokenització sigui compatible amb el model que volem utilitzar, cal fer servir el mateix tokenizer amb què es va entrenar el model original.\n",
        "\n",
        "En aquest cas, el model és google/mt5-small, que és:\n",
        "\n",
        "  * Un model multilingüe (entén molts idiomes, inclòs l’espanyol i l’anglès).\n",
        "\n",
        "  * Una versió petita (ràpida d'entrenar) de la família T5.\n"
      ],
      "metadata": {
        "id": "ReZAjNTs7lqB"
      }
    },
    {
      "cell_type": "code",
      "source": [
        "from transformers import AutoTokenizer\n",
        "\n",
        "model_checkpoint = \"google/mt5-small\"\n",
        "tokenizer = AutoTokenizer.from_pretrained(model_checkpoint)"
      ],
      "metadata": {
        "id": "63EACW518Z2D"
      },
      "execution_count": null,
      "outputs": []
    },
    {
      "cell_type": "code",
      "source": [
        "# Fem una ullada al funcionament\n",
        "inputs = tokenizer(\"I loved reading the Hunger Games!\")\n",
        "inputs"
      ],
      "metadata": {
        "id": "-7fO2OZi8h7q"
      },
      "execution_count": null,
      "outputs": []
    },
    {
      "cell_type": "code",
      "source": [
        "tokenizer.convert_ids_to_tokens(inputs.input_ids)"
      ],
      "metadata": {
        "id": "jUHZfl6X8q9D"
      },
      "execution_count": null,
      "outputs": []
    },
    {
      "cell_type": "markdown",
      "source": [
        "1. **Indicis del tokenitzador SentencePiece**\n",
        "\n",
        "* ▁ (subratllat baix especial): indica l'inici d'una nova paraula.\n",
        "\n",
        "`Per exemple: \"el gat\" → [\"▁el\", \"▁gat\"]`\n",
        "\n",
        "  * SentencePiece no utilitza espais normals per separar paraules, sinó aquest símbol Unicode especial.\n",
        "\n",
        "* </s>: és el token especial de final de seqüència.\n",
        "\n",
        "El model sap que ha acabat de llegir o generar una frase quan troba aquest token.\n",
        "\n",
        "Aquests detalls ens indiquen que s’està usant SentencePiece, un tokenitzador molt usat en models multilingües (com mT5, ByT5, MBart, etc.).\n",
        "\n",
        "2. **Algorisme Unigram (usat per SentencePiece)**\n",
        "\n",
        "L’algorisme Unigram parteix d’un gran conjunt de possibles fragments de paraula (subwords) i selecciona aquells que minimitzen una funció de pèrdua estadística global.\n",
        "\n",
        "És especialment útil per:\n",
        "\n",
        "  * Idiomes sense espais (com el japonès)\n",
        "\n",
        "  * Textos amb moltes formes diferents d’escriptura (accents, puntuació...)\n",
        "\n",
        "  * Això fa que funcioni molt bé amb dades multilingües.\n",
        "\n",
        "3. **Truncament de ressenyes i títols**\n",
        "\n",
        "Quan fem resum supervisat, tant:\n",
        "\n",
        "  * entrada (review_body)\n",
        "\n",
        "  * sortida esperada (review_title)\n",
        "\n",
        "són textos que s’han de tokenitzar. Però el model té un límit màxim de longitud, per exemple 512 tokens. Així que cal truncar amb cura tant el text d’entrada com el de sortida, perquè:\n",
        "\n",
        "  * Si són massa llargs, el model no podrà entrenar-se bé (o petarà la GPU).\n",
        "\n",
        "  * La qualitat del resum millora si mantenim els textos dins de la longitud raonable."
      ],
      "metadata": {
        "id": "e3xN8UY39Ajz"
      }
    },
    {
      "cell_type": "code",
      "source": [
        "max_input_length = 512\n",
        "max_target_length = 30\n",
        "\n",
        "\n",
        "def preprocess_function(examples):\n",
        "    model_inputs = tokenizer(\n",
        "        examples[\"review_body\"],\n",
        "        max_length=max_input_length,\n",
        "        truncation=True,\n",
        "    )\n",
        "    labels = tokenizer(\n",
        "        examples[\"review_title\"], max_length=max_target_length, truncation=True\n",
        "    )\n",
        "    model_inputs[\"labels\"] = labels[\"input_ids\"]\n",
        "    return model_inputs"
      ],
      "metadata": {
        "id": "rrIEifgq98q5"
      },
      "execution_count": 22,
      "outputs": []
    },
    {
      "cell_type": "markdown",
      "source": [
        "El primer que hem fet és definir valors per a max_input_length i max_target_length, que estableixen els límits superiors de quant de temps poden durar les nostres ressenyes i títols. Com que el cos de la revisió sol ser molt més gran que el títol, hem escalat aquests valors en conseqüència.\n",
        "\n",
        "Amb preprocess_function(), llavors és una qüestió senzilla tokenitzar tot el corpus mitjançant la pràctica funció Dataset.map() que hem utilitzat àmpliament al llarg d'aquest curs:"
      ],
      "metadata": {
        "id": "__QaN9xN-atB"
      }
    },
    {
      "cell_type": "code",
      "source": [
        "tokenized_datasets = bilingual_dataset.map(preprocess_function, batched=True)"
      ],
      "metadata": {
        "id": "-R92zCP2-iN1"
      },
      "execution_count": null,
      "outputs": []
    },
    {
      "cell_type": "markdown",
      "source": [
        "# **Rouge mètrica**\n",
        "\n",
        "---\n",
        "Avaluar la qualitat dels textos generats per un model, especialment en tasques com resum o traducció, on no hi ha una única resposta correcta.\n",
        "\n",
        "1. **El problema: múltiples respostes vàlides**\n",
        "\n",
        "\"Given a review like “I loved reading the Hunger Games”...\"\n",
        "\n",
        "En tasques de generació de text, no hi ha una única resposta correcta. Per exemple, una ressenya podria resumir-se com:\n",
        "\n",
        "```\n",
        "“I loved the Hunger Games”\n",
        "\n",
        "“Hunger Games is a great read”\n",
        "```\n",
        "\n",
        "Totes dues són bones, però si comparem literalment (caràcter per caràcter o paraula per paraula) amb una referència concreta, el model podria ser penalitzat injustament.\n",
        "\n",
        "2. **Solució: la mètrica ROUGE**\n",
        "\n",
        "Què és ROUGE?\n",
        "ROUGE = Recall-Oriented Understudy for Gisting Evaluation\n",
        "\n",
        "És una família de mètriques que mesura la similitud entre el text generat i un o diversos resums de referència (fets per humans). Es basa en comparar:\n",
        "\n",
        "Paraules (ROUGE-1)\n",
        "\n",
        "Bigrams (ROUGE-2)\n",
        "\n",
        "Seqüències més llargues (ROUGE-L)\n",
        "\n",
        "3. **Com es calcula?**\n",
        "\n",
        "a) **Recall**\n",
        "Mesura quanta informació del resum de referència ha estat capturada pel model:\n",
        "\n",
        "\n",
        "​![image.png](data:image/png;base64,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)\n",
        "\n",
        "Si totes les paraules del resum de referència estan presents en el resum generat, el recall és 1 (perfecte).\n",
        "\n",
        "b) **Precision**\n",
        "\n",
        "Mesura quin percentatge del que ha generat el model realment és rellevant:\n",
        "\n",
        "![image.png](data:image/png;base64,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)\n",
        "\n",
        "Un model pot tenir recall perfecte però precisió baixa si afegeix massa paraules inútils o redundants.\n",
        "\n"
      ],
      "metadata": {
        "id": "ZmkyMmhM_QCL"
      }
    },
    {
      "cell_type": "code",
      "source": [
        "!pip install rouge_score"
      ],
      "metadata": {
        "id": "5kG9STtmAWq6"
      },
      "execution_count": null,
      "outputs": []
    },
    {
      "cell_type": "code",
      "source": [
        "!pip install evaluate\n",
        "import evaluate\n",
        "\n",
        "rouge_score = evaluate.load(\"rouge\")"
      ],
      "metadata": {
        "id": "ivyf_FRAAaOu"
      },
      "execution_count": null,
      "outputs": []
    },
    {
      "cell_type": "code",
      "source": [
        "generated_summary = \"I absolutely loved reading the Hunger Games\"\n",
        "reference_summary = \"I loved reading the Hunger Games\"\n",
        "\n",
        "scores = rouge_score.compute(\n",
        "    predictions=[generated_summary], references=[reference_summary]\n",
        ")\n",
        "scores"
      ],
      "metadata": {
        "id": "fsRHZ82JAkwc"
      },
      "execution_count": null,
      "outputs": []
    },
    {
      "cell_type": "code",
      "source": [
        "scores[\"rouge1\"]"
      ],
      "metadata": {
        "id": "vqB_jKZIAx82"
      },
      "execution_count": null,
      "outputs": []
    },
    {
      "cell_type": "markdown",
      "source": [
        "# **Creació d'un base-line sòlid**\n",
        "\n",
        "---\n",
        "Tècnica bàsica però útil que s'utilitza sovint com a línia base (baseline) en tasques de resumització de textos. Aquí tens el concepte detallat:\n",
        "\n",
        "1. **Lead-3 baseline: Què és?**\n",
        "\n",
        "\n",
        "El Lead-3 és una estratègia molt senzilla que consisteix a:\n",
        "\n",
        "  * Agafar les tres primeres frases d’un text (normalment notícies o articles).\n",
        "\n",
        "  * Considerar-les com el resum automàtic del text.\n",
        "\n",
        "**Per què funciona?**\n",
        "\n",
        "Perquè en molts textos periodístics o acadèmics:\n",
        "\n",
        "* Les primeres frases condensen la informació més important (qui, què, quan, on...).\n",
        "\n",
        "* És una manera fàcil d'obtenir un resum raonablement informatiu sense entrenar cap model.\n",
        "\n",
        "**Problema: Detectar on acaben les frases**\n",
        "\n",
        "Una manera naïf de detectar frases seria buscar els punts (.), però això falla fàcilment:\n",
        "\n",
        "`“U.S.” o “Dr.” tenen punts però no marquen el final d’una frase.`\n",
        "\n",
        "`Altres exemples: \"Mr.\", \"e.g.\", \"etc.\"`\n",
        "\n",
        "**Solució: usar nltk per detectar frases**\n",
        "\n",
        "Nltk és una biblioteca de Python per processament de llenguatge natural. Inclou un segmentador de frases que:\n",
        "\n",
        "1. Fa servir models estadístics i regles per detectar correctament on comença i acaba cada frase.\n",
        "\n",
        "1. Té en compte abreviatures, puntuació, majúscules, etc.\n",
        "\n",
        "\n"
      ],
      "metadata": {
        "id": "2DPc0ejvBKax"
      }
    },
    {
      "cell_type": "code",
      "source": [
        "!pip install nltk"
      ],
      "metadata": {
        "id": "CTmoGzMtCDp0"
      },
      "execution_count": null,
      "outputs": []
    },
    {
      "cell_type": "code",
      "source": [
        "import nltk\n",
        "\n",
        "nltk.download(\"punkt\")"
      ],
      "metadata": {
        "id": "y59Bu82iCGBA"
      },
      "execution_count": null,
      "outputs": []
    },
    {
      "cell_type": "code",
      "source": [
        "import nltk\n",
        "\n",
        "nltk.download('punkt_tab') # download the data package for English Punkt sentence tokenizer\n",
        "\n",
        "from nltk.tokenize import sent_tokenize\n",
        "\n",
        "def three_sentence_summary(text):\n",
        "    return \"\\n\".join(sent_tokenize(text)[:3])\n",
        "\n",
        "\n",
        "print(three_sentence_summary(bilingual_dataset[\"train\"][1][\"review_body\"]))"
      ],
      "metadata": {
        "id": "S45JdixeCa_c"
      },
      "execution_count": null,
      "outputs": []
    },
    {
      "cell_type": "code",
      "source": [
        "def evaluate_baseline(dataset, metric):\n",
        "    summaries = [three_sentence_summary(text) for text in dataset[\"review_body\"]]\n",
        "    return metric.compute(predictions=summaries, references=dataset[\"review_title\"])"
      ],
      "metadata": {
        "id": "VJCXob45CuAs"
      },
      "execution_count": 35,
      "outputs": []
    },
    {
      "cell_type": "code",
      "source": [
        "import pandas as pd\n",
        "\n",
        "score = evaluate_baseline(bilingual_dataset[\"validation\"], rouge_score)\n",
        "rouge_names = [\"rouge1\", \"rouge2\", \"rougeL\", \"rougeLsum\"]\n",
        "rouge_dict = dict((rn, round(score[rn] * 100, 2)) for rn in rouge_names)\n",
        "rouge_dict"
      ],
      "metadata": {
        "id": "1YR5fhphCy1m"
      },
      "execution_count": null,
      "outputs": []
    },
    {
      "cell_type": "markdown",
      "source": [
        "# **Fine-tuning mT5 amb Keras**\n",
        "\n",
        "---\n",
        "Començar l’entrenament específic (fine-tuning) d’un model preentrenat per a una tasca de resumització. Aquí tens una explicació pas a pas del concepte:\n",
        "\n",
        "1. **Què és el fine-tuning?**\n",
        "\n",
        "El fine-tuning és el procés d’agafar un model preentrenat (com mT5-small) i reentrenar-lo lleugerament amb les teves dades específiques, per tal que s’ajusti millor a una tasca concreta (com ara generar resums de ressenyes).\n",
        "\n",
        "1. **Per què no entrenem des de zero?**\n",
        "\n",
        "Els models com mT5 ja han après:\n",
        "\n",
        "  * Les estructures bàsiques de molts idiomes\n",
        "\n",
        "  * El significat contextual de les paraules\n",
        "\n",
        "  * Com generar frases coherents\n",
        "\n",
        "Així doncs, només cal refinar aquest coneixement amb exemples específics de la tasca que ens interessa (resum).\n",
        "\n",
        "3. **Resum = tasca seqüència a seqüència**\n",
        "\n",
        "El resum és una seqüència a seqüència (seq2seq) perquè:\n",
        "\n",
        "  * La entrada és una seqüència de text (ex: ressenya completa)\n",
        "\n",
        "  * La sortida esperada és una altra seqüència de text (ex: títol o resum curt)\n",
        "\n",
        "  * A diferència d’una tasca de classificació (on el resultat és una etiqueta), aquí el model ha de generar text.\n",
        "\n",
        "4. **Quina classe s’utilitza per carregar el model?**\n",
        "\n",
        "  * Aquesta classe (TFAutoModelForSeq2SeqLM) és part de la llibreria transformers de Hugging Face.\n",
        "\n",
        "  * TF = Versió basada en TensorFlow (hi ha també AutoModelForSeq2SeqLM per a PyTorch)\n",
        "\n",
        "  * Auto = Hugging Face detecta automàticament quin model carregar segons el checkpoint\n",
        "\n",
        "  * Seq2SeqLM = Seqüència a Seqüència amb Language Modeling (capacitat de generar text)\n"
      ],
      "metadata": {
        "id": "unh-3oHZDKkw"
      }
    },
    {
      "cell_type": "code",
      "source": [
        "from transformers import TFAutoModelForSeq2SeqLM\n",
        "\n",
        "model = TFAutoModelForSeq2SeqLM.from_pretrained(model_checkpoint)"
      ],
      "metadata": {
        "id": "ORdtBF4gEJ41"
      },
      "execution_count": null,
      "outputs": []
    },
    {
      "cell_type": "code",
      "source": [
        "from huggingface_hub import notebook_login\n",
        "\n",
        "notebook_login()"
      ],
      "metadata": {
        "id": "0VKnNp7NEMh-"
      },
      "execution_count": null,
      "outputs": []
    },
    {
      "cell_type": "code",
      "source": [
        "from transformers import DataCollatorForSeq2Seq\n",
        "\n",
        "data_collator = DataCollatorForSeq2Seq(tokenizer, model=model, return_tensors=\"tf\")"
      ],
      "metadata": {
        "id": "2IXyXHxnEc8j"
      },
      "execution_count": 41,
      "outputs": []
    },
    {
      "cell_type": "code",
      "source": [
        "tokenized_datasets = tokenized_datasets.remove_columns(\n",
        "    bilingual_dataset[\"train\"].column_names\n",
        ")"
      ],
      "metadata": {
        "id": "xYOJvmFYEgum"
      },
      "execution_count": 42,
      "outputs": []
    },
    {
      "cell_type": "code",
      "source": [
        "features = [tokenized_datasets[\"train\"][i] for i in range(2)]\n",
        "data_collator(features)"
      ],
      "metadata": {
        "id": "JqGCDBdAEpe8"
      },
      "execution_count": null,
      "outputs": []
    },
    {
      "cell_type": "markdown",
      "source": [
        "El més important a notar aquí és que el primer exemple és més llarg que el segon, de manera que els input_ids i l'attention_mask del segon exemple s'han encoixinat a la dreta amb un testimoni [PAD] (l'ID del qual és 0). De la mateixa manera, podem veure que les etiquetes s'han encoixinat amb -100, per assegurar-nos que la funció de pèrdua ignora els fitxes de farciment. I finalment, podem veure un nou decoder_input_ids que ha desplaçat les etiquetes cap a la dreta inserint un testimoni [PAD] a la primera entrada.\n",
        "\n",
        "Ja estem gairebé a punt per entrenar! Només hem de convertir els nostres conjunts de dades a tf.data.Datasets utilitzant el col·lador de dades que hem definit anteriorment, i després compilar () i ajustar () el model. En primer lloc, els conjunts de dades:\n"
      ],
      "metadata": {
        "id": "B7YZ-oClE7-d"
      }
    },
    {
      "cell_type": "code",
      "source": [
        "tf_train_dataset = model.prepare_tf_dataset(\n",
        "    tokenized_datasets[\"train\"],\n",
        "    collate_fn=data_collator,\n",
        "    shuffle=True,\n",
        "    batch_size=8,\n",
        ")\n",
        "tf_eval_dataset = model.prepare_tf_dataset(\n",
        "    tokenized_datasets[\"validation\"],\n",
        "    collate_fn=data_collator,\n",
        "    shuffle=False,\n",
        "    batch_size=8,\n",
        ")"
      ],
      "metadata": {
        "id": "MqKVB3hfFBhI"
      },
      "execution_count": 44,
      "outputs": []
    },
    {
      "cell_type": "code",
      "source": [
        "from transformers import create_optimizer\n",
        "import tensorflow as tf\n",
        "\n",
        "# The number of training steps is the number of samples in the dataset, divided by the batch size then multiplied\n",
        "# by the total number of epochs. Note that the tf_train_dataset here is a batched tf.data.Dataset,\n",
        "# not the original Hugging Face Dataset, so its len() is already num_samples // batch_size.\n",
        "num_train_epochs = 8\n",
        "num_train_steps = len(tf_train_dataset) * num_train_epochs\n",
        "model_name = model_checkpoint.split(\"/\")[-1]\n",
        "\n",
        "optimizer, schedule = create_optimizer(\n",
        "    init_lr=5.6e-5,\n",
        "    num_warmup_steps=0,\n",
        "    num_train_steps=num_train_steps,\n",
        "    weight_decay_rate=0.01,\n",
        ")\n",
        "\n",
        "model.compile(optimizer=optimizer)\n",
        "\n",
        "# Train in mixed-precision float16\n",
        "tf.keras.mixed_precision.set_global_policy(\"mixed_float16\")"
      ],
      "metadata": {
        "id": "N20-UcfhFJO1"
      },
      "execution_count": 45,
      "outputs": []
    },
    {
      "cell_type": "code",
      "source": [
        "from transformers.keras_callbacks import PushToHubCallback\n",
        "\n",
        "callback = PushToHubCallback(\n",
        "    output_dir=f\"{model_name}-finetuned-amazon-en-es\", tokenizer=tokenizer\n",
        ")\n",
        "\n",
        "model.fit(\n",
        "    tf_train_dataset, validation_data=tf_eval_dataset, callbacks=[callback], epochs=8\n",
        ")"
      ],
      "metadata": {
        "id": "3jnzkx-AFP1o"
      },
      "execution_count": null,
      "outputs": []
    },
    {
      "cell_type": "markdown",
      "source": [
        "Aquesta part aborda una part clau i avançada de l’avaluació de models de resumització amb TensorFlow: obtenir mètriques com ROUGE i millorar el rendiment de generació de text usant XLA (Accelerated Linear Algebra). Anem per parts:\n",
        "\n",
        "1. **Pèrdua (loss) vs mètriques com ROUGE**\n",
        "\n",
        "Durant l’entrenament veiem el valor de la funció de pèrdua (loss), que és útil per saber si el model està aprenent, però:\n",
        "\n",
        "  * No ens diu directament si els resums són bons.\n",
        "\n",
        "2. **Per tasques de generació de text, el més informatiu és calcular mètriques externes, com ROUGE.**\n",
        "\n",
        "3. **Com s'obtenen les mètriques ROUGE**\n",
        "\n",
        "Per calcular ROUGE, cal:\n",
        "\n",
        "  * Fer que el model generi text a partir de les entrades (reviews).\n",
        "\n",
        "  * Comparar els resultats amb els resums de referència (titles).\n",
        "\n",
        "  * Convertir prediccions i referències a strings.\n",
        "\n",
        "  * Passar-les a evaluate.load(\"rouge\").\n",
        "\n",
        "4. **Millorar el rendiment amb XLA**\n",
        "\n",
        "XLA (Accelerated Linear Algebra) és un compilador que optimitza el gràfic de computació de TensorFlow:\n",
        "\n",
        "  * Redueix temps d’execució\n",
        "\n",
        "  * Estalvia memòria\n",
        "\n",
        "  * Fa que la generació de text sigui molt més eficient\n",
        "\n",
        "5. **Com aplicar XLA**\n",
        "\n",
        "Paddar entrades a múltiples de 128\n",
        "\n",
        "Per maximitzar el rendiment, cal que totes les entrades tinguin formes similars (mateix nombre de tokens). Això es pot fer paddant a longituds múltiples de 128, per exemple: 128, 256, 384..."
      ],
      "metadata": {
        "id": "svGN_Ng4Ftc4"
      }
    },
    {
      "cell_type": "code",
      "source": [
        "from tqdm import tqdm\n",
        "import numpy as np\n",
        "\n",
        "generation_data_collator = DataCollatorForSeq2Seq(\n",
        "    tokenizer, model=model, return_tensors=\"tf\", pad_to_multiple_of=320\n",
        ")\n",
        "\n",
        "tf_generate_dataset = model.prepare_tf_dataset(\n",
        "    tokenized_datasets[\"validation\"],\n",
        "    collate_fn=generation_data_collator,\n",
        "    shuffle=False,\n",
        "    batch_size=8,\n",
        "    drop_remainder=True,\n",
        ")\n",
        "\n",
        "\n",
        "@tf.function(jit_compile=True)\n",
        "def generate_with_xla(batch):\n",
        "    return model.generate(\n",
        "        input_ids=batch[\"input_ids\"],\n",
        "        attention_mask=batch[\"attention_mask\"],\n",
        "        max_new_tokens=32,\n",
        "    )\n",
        "\n",
        "\n",
        "all_preds = []\n",
        "all_labels = []\n",
        "for batch, labels in tqdm(tf_generate_dataset):\n",
        "    predictions = generate_with_xla(batch)\n",
        "    decoded_preds = tokenizer.batch_decode(predictions, skip_special_tokens=True)\n",
        "    labels = labels.numpy()\n",
        "    labels = np.where(labels != -100, labels, tokenizer.pad_token_id)\n",
        "    decoded_labels = tokenizer.batch_decode(labels, skip_special_tokens=True)\n",
        "    decoded_preds = [\"\\n\".join(sent_tokenize(pred.strip())) for pred in decoded_preds]\n",
        "    decoded_labels = [\"\\n\".join(sent_tokenize(label.strip())) for label in decoded_labels]\n",
        "    all_preds.extend(decoded_preds)\n",
        "    all_labels.extend(decoded_labels)"
      ],
      "metadata": {
        "id": "xr_lhJSnGg37"
      },
      "execution_count": null,
      "outputs": []
    },
    {
      "cell_type": "code",
      "source": [
        "result = rouge_score.compute(\n",
        "    predictions=decoded_preds, references=decoded_labels, use_stemmer=True\n",
        ")\n",
        "result = {key: value.mid.fmeasure * 100 for key, value in result.items()}\n",
        "{k: round(v, 4) for k, v in result.items()}"
      ],
      "metadata": {
        "id": "HK22TNRgGlmP"
      },
      "execution_count": null,
      "outputs": []
    },
    {
      "cell_type": "markdown",
      "source": [
        "# **Utilitzant el vostre model ajustat**\n",
        "\n",
        "---\n",
        "\n"
      ],
      "metadata": {
        "id": "khICWunlGxJl"
      }
    },
    {
      "cell_type": "code",
      "source": [
        "from transformers import pipeline\n",
        "\n",
        "hub_model_id = \"huggingface-course/mt5-small-finetuned-amazon-en-es\"\n",
        "summarizer = pipeline(\"summarization\", model=hub_model_id)"
      ],
      "metadata": {
        "id": "mzN-qrxVG4zX"
      },
      "execution_count": null,
      "outputs": []
    },
    {
      "cell_type": "code",
      "source": [
        "def print_summary(idx):\n",
        "    review = bilingual_dataset[\"test\"][idx][\"review_body\"]\n",
        "    title = bilingual_dataset[\"test\"][idx][\"review_title\"]\n",
        "    summary = summarizer(books_dataset[\"test\"][idx][\"review_body\"])[0][\"summary_text\"]\n",
        "    print(f\"'>>> Review: {review}'\")\n",
        "    print(f\"\\n'>>> Title: {title}'\")\n",
        "    print(f\"\\n'>>> Summary: {summary}'\")"
      ],
      "metadata": {
        "id": "jUpZXgmRG5x5"
      },
      "execution_count": null,
      "outputs": []
    },
    {
      "cell_type": "code",
      "source": [
        "print_summary(100)"
      ],
      "metadata": {
        "id": "XzChDXwyHJu4"
      },
      "execution_count": null,
      "outputs": []
    },
    {
      "cell_type": "code",
      "source": [
        "print_summary(0)"
      ],
      "metadata": {
        "id": "FX1I71L7HKbx"
      },
      "execution_count": null,
      "outputs": []
    }
  ]
}