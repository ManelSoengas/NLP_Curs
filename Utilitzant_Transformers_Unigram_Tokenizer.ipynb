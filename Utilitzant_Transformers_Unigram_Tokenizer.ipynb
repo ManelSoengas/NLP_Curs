{
  "nbformat": 4,
  "nbformat_minor": 0,
  "metadata": {
    "colab": {
      "provenance": [],
      "authorship_tag": "ABX9TyNUShO7rckHRjn7z0bb0iJZ",
      "include_colab_link": true
    },
    "kernelspec": {
      "name": "python3",
      "display_name": "Python 3"
    },
    "language_info": {
      "name": "python"
    }
  },
  "cells": [
    {
      "cell_type": "markdown",
      "metadata": {
        "id": "view-in-github",
        "colab_type": "text"
      },
      "source": [
        "<a href=\"https://colab.research.google.com/github/ManelSoengas/NLP_Curs/blob/main/Utilitzant_Transformers_Unigram_Tokenizer.ipynb\" target=\"_parent\"><img src=\"https://colab.research.google.com/assets/colab-badge.svg\" alt=\"Open In Colab\"/></a>"
      ]
    },
    {
      "cell_type": "markdown",
      "source": [
        "# **Tokenització Unigram**\n",
        "\n",
        "---\n",
        "\n",
        "\n",
        "\n",
        "És un mètode basat en un model probabilístic de subparaules (subwords) que aprèn un vocabulari i segmenta el text en unitats que maximitzen la versemblança.\n",
        "\n",
        "**Com funciona?**\n",
        "\n",
        "Inicialització del vocabulari\n",
        "\n",
        "1. Es parteix d’un gran conjunt de fragments possibles (caràcters, síl·labes, subparaules extra).\n",
        "\n",
        "1. Estimació de probabilitats\n",
        "  * Cada fragment té assignada una probabilitat inicial.\n",
        "\n",
        "1. Optimització iterativa\n",
        "  * S’analitzen exemples de text i, per a cada paraula, es calculen totes les possibles segmentacions en fragments.\n",
        "  * Es selecciona la segmentació que maximitza la probabilitat conjunta (producte de les probabilitats dels fragments).\n",
        "  * Per reduir la mida del vocabulari, s’elimina iterativament el fragment menys «útil» (el que menys contribueix a la probabilitat global), recalculant després les probabilitats.\n",
        "  * Es repeteix fins aconseguir la mida de vocabulari desitjada.\n",
        "\n",
        "**Per què serveix?**\n",
        "\n",
        "Model obert (open vocabulary):\n",
        "1. Permet tractar paraules desconegudes segmentant-les en fragments coneguts, evitant tokens ‹UNK› massius.\n",
        "\n",
        "1. Vocabulari compacte i eficient:\n",
        "Amb un nombre moderat de subparaules captures tant formes comunes com variacions morfològiques.\n",
        "\n",
        "1. Probabilístic i flexible:\n",
        "A diferència de mètodes que sempre trien la fragmentació més llarga (greedy), Unigram busca la millor combinació global segons un model estadístic.\n",
        "\n",
        "1. Adaptabilitat a l’idioma i domini:\n",
        "El vocabulari s’ajusta automàticament al corpus d’entrenament, capturant patrons de l’idioma o vocabulari específic (mèdic, legal, tècnic…).\n",
        "\n"
      ],
      "metadata": {
        "id": "XjQKyBcMZBgC"
      }
    },
    {
      "cell_type": "markdown",
      "source": [
        "Unigram funciona en l'altra direcció: parteix d'un gran vocabulari i n'elimina fitxes fins que assoleix la mida de vocabulari desitjada. Hi ha diverses opcions a utilitzar per construir aquest vocabulari base: podem agafar les subcadenes més habituals en paraules prèviament tokenitzades"
      ],
      "metadata": {
        "id": "IEBQ_81lafH9"
      }
    },
    {
      "cell_type": "markdown",
      "source": [
        "Reutilitzarem el corpus dels exemples anteriors:\n",
        "\n",
        "```\n",
        "(\"hug\", 10), (\"pug\", 5), (\"pun\", 12), (\"bun\", 4), (\"hugs\", 5)\n",
        "```\n",
        "i per a aquest exemple, agafarem totes les subcadenes estrictes per al vocabulari inicial:\n",
        "\n",
        "\n",
        "```\n",
        "[\"h\", \"u\", \"g\", \"hu\", \"ug\", \"p\", \"pu\", \"n\", \"un\", \"b\", \"bu\", \"s\", \"hug\", \"gs\", \"ugs\"]\n",
        "```\n",
        "Aquí teniu les freqüències de totes les subparaules possibles del vocabulari\n",
        "\n",
        "\n",
        "```\n",
        "(\"h\", 15) (\"u\", 36) (\"g\", 20) (\"hu\", 15) (\"ug\", 20) (\"p\", 17) (\"pu\", 17) (\"n\", 16)\n",
        "(\"un\", 16) (\"b\", 4) (\"bu\", 4) (\"s\", 5) (\"hug\", 15) (\"gs\", 5) (\"ugs\", 5)\n",
        "```\n",
        "\n",
        "\n",
        "\n",
        "\n"
      ],
      "metadata": {
        "id": "UxN-b6rpRpP8"
      }
    },
    {
      "cell_type": "markdown",
      "source": [
        "Ara, per tokenitzar una paraula donada, observem totes les segmentacions possibles en fitxes i calculem la probabilitat de cadascuna segons el model Unigram. Com que totes les fitxes es consideren independents, aquesta probabilitat és només el producte de la probabilitat de cada fitxa. Per exemple, la tokenització [\"p\", \"u\", \"g\"] de \"pug\" té la probabilitat:\n",
        "\n",
        "![image.png](data:image/png;base64,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)"
      ],
      "metadata": {
        "id": "Of0oB1efSX73"
      }
    },
    {
      "cell_type": "markdown",
      "source": [
        "Comparativament, la tokenització [\"pu\", \"g\"] té la probabilitat:\n",
        "\n",
        "![image.png](data:image/png;base64,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)"
      ],
      "metadata": {
        "id": "lPJrOlbTShPO"
      }
    },
    {
      "cell_type": "markdown",
      "source": [
        "de manera que un és molt més probable. En general, les fitxes amb menys fitxes possibles tindran la probabilitat més alta (a causa d'aquesta divisió per 210 repetida per a cada testimoni), que correspon al que volem intuïtivament: dividir una paraula en el menor nombre de fitxes possibles.\n",
        "\n",
        "La tokenització d'una paraula amb el model Unigram és llavors la tokenització amb més probabilitat. En l'exemple de \"pug\", aquí teniu les probabilitats que obtindríem per a cada possible segmentació:\n",
        "\n",
        "\n",
        "\n",
        "```\n",
        "[\"p\", \"u\", \"g\"] : 0.000389\n",
        "[\"p\", \"ug\"] : 0.0022676\n",
        "[\"pu\", \"g\"] : 0.0022676\n",
        "```\n",
        "\n"
      ],
      "metadata": {
        "id": "BzTxdPjXSrmD"
      }
    },
    {
      "cell_type": "markdown",
      "source": [
        "Per tant, \"pug\" es representaria com a [\"p\", \"ug\"] o [\"pu\", \"g\"], depenent de quina d'aquestes segmentacions es trobi primer (tingueu en compte que en un corpus més gran, casos d'igualtat com aquest seran rars).\n",
        "\n",
        "En aquest cas, va ser fàcil trobar totes les segmentacions possibles i calcular-ne les probabilitats, però en general serà una mica més difícil. Hi ha un algorisme clàssic utilitzat per a això, anomenat algorisme de Viterbi. Essencialment, podem construir un gràfic per detectar les possibles segmentacions d'una paraula donada dient que hi ha una branca del caràcter a al caràcter b si la subparaula de a a b està al vocabulari, i atribuir a aquesta branca la probabilitat de la subparaula.\n",
        "\n",
        "Per trobar el camí en aquest gràfic que tindrà la millor puntuació, l'algoritme de Viterbi determina, per a cada posició de la paraula, la segmentació amb la millor puntuació que acaba en aquesta posició. Com que anem del principi al final, la millor puntuació es pot trobar fent un bucle per totes les subparaules que acaben a la posició actual i després utilitzant la millor puntuació de tokenització de la posició en què comença aquesta subparaula. Aleshores, només ens queda desenrotllar el camí fet per arribar al final.\n",
        "\n",
        "Mirem un exemple amb el nostre vocabulari i la paraula \"unhug\". Per a cada posició, les subparaules amb les millors puntuacions que acaben aquí són les següents:\n",
        "\n",
        "\n",
        "\n",
        "```\n",
        "Character 0 (u): \"u\" (score 0.171429)\n",
        "Character 1 (n): \"un\" (score 0.076191)\n",
        "Character 2 (h): \"un\" \"h\" (score 0.005442)\n",
        "Character 3 (u): \"un\" \"hu\" (score 0.005442)\n",
        "Character 4 (g): \"un\" \"hug\" (score 0.005442)\n",
        "```\n",
        "Per tant, \"unhug\" es representaria com a [\"un\", \"hug\"].\n"
      ],
      "metadata": {
        "id": "jxXAi2UzTX5Z"
      }
    },
    {
      "cell_type": "markdown",
      "source": [
        "# **Tornada als entrenaments**\n",
        "\n",
        "---\n",
        "\n",
        "\n",
        "Ara que hem vist com funciona la tokenització, podem aprofundir una mica més en la pèrdua utilitzada durant l'entrenament. En qualsevol etapa donada, aquesta pèrdua es calcula tokenitzant cada paraula del corpus, utilitzant el vocabulari actual i el model Unigram determinat per les freqüències de cada testimoni del corpus (com s'ha vist abans).\n",
        "\n",
        "Cada paraula del corpus té una puntuació, i la pèrdua és el logaritme de probabilitat negatiu d'aquestes puntuacions, és a dir, la suma de totes les paraules del corpus de tots els -log(P(paraula)).\n",
        "\n",
        "Tornem al nostre exemple amb el següent corpus:"
      ],
      "metadata": {
        "id": "5vwNDySAURcz"
      }
    },
    {
      "cell_type": "markdown",
      "source": [
        "(\"hug\", 10), (\"pug\", 5), (\"pun\", 12), (\"bun\", 4), (\"hugs\", 5)"
      ],
      "metadata": {
        "id": "e952DeHzUUcr"
      }
    },
    {
      "cell_type": "markdown",
      "source": [
        "\n",
        "\n",
        "```\n",
        "\"hug\": [\"hug\"] (score 0.071428)\n",
        "\"pug\": [\"pu\", \"g\"] (score 0.007710)\n",
        "\"pun\": [\"pu\", \"n\"] (score 0.006168)\n",
        "\"bun\": [\"bu\", \"n\"] (score 0.001451)\n",
        "\"hugs\": [\"hug\", \"s\"] (score 0.001701)\n",
        "```\n",
        "\n"
      ],
      "metadata": {
        "id": "M42H9Z_AUX2a"
      }
    },
    {
      "cell_type": "markdown",
      "source": [
        "Per tant, la pèrdua és:\n",
        "\n",
        "\n",
        "```\n",
        "10 * (-log(0.071428)) + 5 * (-log(0.007710)) + 12 * (-log(0.006168)) + 4 * (-log(0.001451)) + 5 * (-log(0.001701)) = 169.8\n",
        "```\n",
        "\n"
      ],
      "metadata": {
        "id": "v89tWKkEUhTS"
      }
    },
    {
      "cell_type": "markdown",
      "source": [
        "Ara hem de calcular com l'eliminació de cada testimoni afecta la pèrdua. Això és bastant tediós, així que només ho farem per dues fitxes aquí i guardarem tot el procés per quan tinguem codi que ens ajudi. En aquest cas (molt) particular, teníem dues tokenitzacions equivalents de totes les paraules: com hem vist abans, per exemple, \"pug\" es podia tokenitzar [\"p\", \"ug\"] amb la mateixa puntuació. Per tant, eliminar el testimoni \"pu\" del vocabulari donarà exactament la mateixa pèrdua.\n",
        "\n",
        "D'altra banda, eliminar \"hug\" empitjorarà la pèrdua, perquè la tokenització de \"hug\" i \"hugs\" es convertirà en:\n",
        "\n",
        "```\n",
        "\"hug\": [\"hu\", \"g\"] (score 0.006802)\n",
        "\"hugs\": [\"hu\", \"gs\"] (score 0.001701)\n",
        "```\n",
        "\n",
        "Per tant, el testimoni \"pu\" probablement s'eliminarà del vocabulari, però no \"hug\"."
      ],
      "metadata": {
        "id": "Jr_wFMufUstR"
      }
    },
    {
      "cell_type": "markdown",
      "source": [
        "Aquests canvis provocaran que la pèrdua augmenti per:\n",
        "\n",
        "```\n",
        "- 10 * (-log(0.071428)) + 10 * (-log(0.006802)) = 23.5\n",
        "```\n",
        "\n"
      ],
      "metadata": {
        "id": "f08q0eHvVskO"
      }
    },
    {
      "cell_type": "markdown",
      "source": [
        "# **Implementació d'Unigram**\n",
        "\n",
        "---\n",
        "\n",
        "\n",
        "Ara implementem tot el que hem vist fins ara en codi. Igual que amb BPE i WordPiece, aquesta no és una implementació eficient de l'algoritme Unigram (tot el contrari), però us hauria d'ajudar a entendre-ho una mica millor.\n",
        "\n",
        "Utilitzarem el mateix corpus que abans com a exemple:\n",
        "\n",
        "```\n",
        "corpus = [\n",
        "    \"This is the Hugging Face Course.\",\n",
        "    \"This chapter is about tokenization.\",\n",
        "    \"This section shows several tokenizer algorithms.\",\n",
        "    \"Hopefully, you will be able to understand how they are trained and generate tokens.\",\n",
        "]\n",
        "```\n",
        "\n"
      ],
      "metadata": {
        "id": "Rvnossj_Vw6v"
      }
    },
    {
      "cell_type": "code",
      "source": [
        "from transformers import AutoTokenizer\n",
        "\n",
        "tokenizer = AutoTokenizer.from_pretrained(\"xlnet-base-cased\")"
      ],
      "metadata": {
        "id": "JEggX6d3WIFu"
      },
      "execution_count": null,
      "outputs": []
    },
    {
      "cell_type": "code",
      "source": [
        "corpus=[\n",
        "'This is the Hugging Face Course.',\n",
        "'This chapter is about tokenization.',\n",
        "'This section shows several tokenizer algorithms.',\n",
        "'hopefully, you will be able to understand how they are trained and generate tokens.',\n",
        "]"
      ],
      "metadata": {
        "id": "U1c2S0IZWZ8l"
      },
      "execution_count": 5,
      "outputs": []
    },
    {
      "cell_type": "code",
      "source": [
        "# Igual que per a BPE i WordPiece, comencem comptant el nombre d'ocurrències de cada paraula al corpus:\n",
        "\n",
        "from collections import defaultdict\n",
        "\n",
        "word_freqs = defaultdict(int)\n",
        "for text in corpus:\n",
        "    words_with_offsets = tokenizer.backend_tokenizer.pre_tokenizer.pre_tokenize_str(text)\n",
        "    new_words = [word for word, offset in words_with_offsets]\n",
        "    for word in new_words:\n",
        "        word_freqs[word] += 1\n",
        "\n",
        "word_freqs"
      ],
      "metadata": {
        "id": "KK31616yWLez"
      },
      "execution_count": null,
      "outputs": []
    },
    {
      "cell_type": "markdown",
      "source": [
        "Aleshores, hem d'iniciar el nostre vocabulari a una cosa més gran que la mida del vocabulari que volem al final. Hem d'incloure tots els caràcters bàsics (en cas contrari no podrem tokenitzar cada paraula), però per a les subcadenes més grans només en conservarem els més habituals, així que els ordenem per freqüència:"
      ],
      "metadata": {
        "id": "Z2ysgSbxW4XN"
      }
    },
    {
      "cell_type": "code",
      "source": [
        "char_freqs = defaultdict(int)\n",
        "subwords_freqs = defaultdict(int)\n",
        "for word, freq in word_freqs.items():\n",
        "    for i in range(len(word)):\n",
        "        char_freqs[word[i]] += freq\n",
        "        # Loop through the subwords of length at least 2\n",
        "        for j in range(i + 2, len(word) + 1):\n",
        "            subwords_freqs[word[i:j]] += freq\n",
        "\n",
        "# Sort subwords by frequency\n",
        "sorted_subwords = sorted(subwords_freqs.items(), key=lambda x: x[1], reverse=True)\n",
        "sorted_subwords[:10]"
      ],
      "metadata": {
        "id": "H-gjc78QWM4_"
      },
      "execution_count": null,
      "outputs": []
    },
    {
      "cell_type": "code",
      "source": [
        "token_freqs = list(char_freqs.items()) + sorted_subwords[: 300 - len(char_freqs)]\n",
        "token_freqs = {token: freq for token, freq in token_freqs}"
      ],
      "metadata": {
        "id": "SYTcTTVpXAvx"
      },
      "execution_count": 8,
      "outputs": []
    },
    {
      "cell_type": "markdown",
      "source": [
        "A continuació, calculem la suma de totes les freqüències, per convertir les freqüències en probabilitats. Per al nostre model emmagatzemarem els logaritmes de les probabilitats, perquè és més estable numèricament sumar logaritmes que multiplicar nombres petits, i això simplificarà el càlcul de la pèrdua del model:"
      ],
      "metadata": {
        "id": "naiPZ8i1XHsz"
      }
    },
    {
      "cell_type": "code",
      "source": [
        "from math import log\n",
        "\n",
        "total_sum = sum([freq for token, freq in token_freqs.items()])\n",
        "model = {token: -log(freq / total_sum) for token, freq in token_freqs.items()}"
      ],
      "metadata": {
        "id": "fgxgHyqCXIgT"
      },
      "execution_count": 9,
      "outputs": []
    },
    {
      "cell_type": "markdown",
      "source": [
        "Ara la funció principal és la que tokenitza paraules mitjançant l'algorisme de Viterbi. Com hem vist abans, aquest algorisme calcula la millor segmentació de cada subcadena de la paraula, que emmagatzemarem en una variable anomenada best_segmentations. Emmagatzemarem un diccionari per posició de la paraula (de 0 a la seva longitud total), amb dues claus: l'índex de l'inici de l'últim testimoni en la millor segmentació, i la puntuació de la millor segmentació. Amb l'índex de l'inici de l'últim testimoni, podrem recuperar la segmentació completa un cop la llista estigui completament emplenada.\n",
        "\n",
        "Omplir la llista es fa amb només dos bucles: el bucle principal passa per sobre de cada posició inicial i el segon bucle prova totes les subcadenes que comencen en aquesta posició inicial. Si la subcadena es troba al vocabulari, tenim una nova segmentació de la paraula fins a aquesta posició final, que comparem amb la que hi ha a best_segmentations.\n",
        "\n",
        "Un cop acabat el bucle principal, només comencem des del final i saltem d'una posició inicial a la següent, enregistrant les fitxes a mesura que avancem, fins a arribar a l'inici de la paraula:"
      ],
      "metadata": {
        "id": "2upbqmYRXS8w"
      }
    },
    {
      "cell_type": "code",
      "source": [
        "def encode_word(word, model):\n",
        "    best_segmentations = [{\"start\": 0, \"score\": 1}] + [\n",
        "        {\"start\": None, \"score\": None} for _ in range(len(word))\n",
        "    ]\n",
        "    for start_idx in range(len(word)):\n",
        "        # This should be properly filled by the previous steps of the loop\n",
        "        best_score_at_start = best_segmentations[start_idx][\"score\"]\n",
        "        for end_idx in range(start_idx + 1, len(word) + 1):\n",
        "            token = word[start_idx:end_idx]\n",
        "            if token in model and best_score_at_start is not None:\n",
        "                score = model[token] + best_score_at_start\n",
        "                # If we have found a better segmentation ending at end_idx, we update\n",
        "                if (\n",
        "                    best_segmentations[end_idx][\"score\"] is None\n",
        "                    or best_segmentations[end_idx][\"score\"] > score\n",
        "                ):\n",
        "                    best_segmentations[end_idx] = {\"start\": start_idx, \"score\": score}\n",
        "\n",
        "    segmentation = best_segmentations[-1]\n",
        "    if segmentation[\"score\"] is None:\n",
        "        # We did not find a tokenization of the word -> unknown\n",
        "        return [\"<unk>\"], None\n",
        "\n",
        "    score = segmentation[\"score\"]\n",
        "    start = segmentation[\"start\"]\n",
        "    end = len(word)\n",
        "    tokens = []\n",
        "    while start != 0:\n",
        "        tokens.insert(0, word[start:end])\n",
        "        next_start = best_segmentations[start][\"start\"]\n",
        "        end = start\n",
        "        start = next_start\n",
        "    tokens.insert(0, word[start:end])\n",
        "    return tokens, score"
      ],
      "metadata": {
        "id": "-Z8nhYo2XT_6"
      },
      "execution_count": 10,
      "outputs": []
    },
    {
      "cell_type": "code",
      "source": [
        "print(encode_word(\"Hopefully\", model))\n",
        "print(encode_word(\"This\", model))"
      ],
      "metadata": {
        "id": "lW7faGw3XZGT"
      },
      "execution_count": null,
      "outputs": []
    },
    {
      "cell_type": "code",
      "source": [
        "def compute_loss(model):\n",
        "    loss = 0\n",
        "    for word, freq in word_freqs.items():\n",
        "        _, word_loss = encode_word(word, model)\n",
        "        loss += freq * word_loss\n",
        "    return loss"
      ],
      "metadata": {
        "id": "cuupvrpXXc9N"
      },
      "execution_count": 12,
      "outputs": []
    },
    {
      "cell_type": "code",
      "source": [
        "compute_loss(model)"
      ],
      "metadata": {
        "id": "wkGDTCsqXeVO"
      },
      "execution_count": null,
      "outputs": []
    },
    {
      "cell_type": "code",
      "source": [
        "import copy\n",
        "\n",
        "\n",
        "def compute_scores(model):\n",
        "    scores = {}\n",
        "    model_loss = compute_loss(model)\n",
        "    for token, score in model.items():\n",
        "        # We always keep tokens of length 1\n",
        "        if len(token) == 1:\n",
        "            continue\n",
        "        model_without_token = copy.deepcopy(model)\n",
        "        _ = model_without_token.pop(token)\n",
        "        scores[token] = compute_loss(model_without_token) - model_loss\n",
        "    return scores"
      ],
      "metadata": {
        "id": "P58Ewc0FXhON"
      },
      "execution_count": 14,
      "outputs": []
    },
    {
      "cell_type": "code",
      "source": [
        "scores = compute_scores(model)\n",
        "print(scores[\"ll\"])\n",
        "print(scores[\"his\"])"
      ],
      "metadata": {
        "id": "QxUQhEb3XkTo"
      },
      "execution_count": null,
      "outputs": []
    },
    {
      "cell_type": "markdown",
      "source": [
        "Amb tot això al seu lloc, l'últim que hem de fer és afegir les fitxes especials utilitzades pel model al vocabulari, després fer un bucle fins que tinguem prou fitxes del vocabulari per assolir la mida desitjada:"
      ],
      "metadata": {
        "id": "2Ke_3pnQXvBk"
      }
    },
    {
      "cell_type": "code",
      "source": [
        "percent_to_remove = 0.1\n",
        "while len(model) > 100:\n",
        "    scores = compute_scores(model)\n",
        "    sorted_scores = sorted(scores.items(), key=lambda x: x[1])\n",
        "    # Remove percent_to_remove tokens with the lowest scores.\n",
        "    for i in range(int(len(model) * percent_to_remove)):\n",
        "        _ = token_freqs.pop(sorted_scores[i][0])\n",
        "\n",
        "    total_sum = sum([freq for token, freq in token_freqs.items()])\n",
        "    model = {token: -log(freq / total_sum) for token, freq in token_freqs.items()}"
      ],
      "metadata": {
        "id": "7ycif2XBXwGN"
      },
      "execution_count": 16,
      "outputs": []
    },
    {
      "cell_type": "code",
      "source": [
        "def tokenize(text, model):\n",
        "    words_with_offsets = tokenizer.backend_tokenizer.pre_tokenizer.pre_tokenize_str(text)\n",
        "    pre_tokenized_text = [word for word, offset in words_with_offsets]\n",
        "    encoded_words = [encode_word(word, model)[0] for word in pre_tokenized_text]\n",
        "    return sum(encoded_words, [])\n",
        "\n",
        "\n",
        "tokenize(\"This is the Hugging Face course.\", model)"
      ],
      "metadata": {
        "id": "blGgc6znXyps"
      },
      "execution_count": null,
      "outputs": []
    }
  ]
}