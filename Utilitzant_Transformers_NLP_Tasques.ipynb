{
  "nbformat": 4,
  "nbformat_minor": 0,
  "metadata": {
    "colab": {
      "provenance": [],
      "authorship_tag": "ABX9TyP9xuZFuylpcdOLddWnB+AV",
      "include_colab_link": true
    },
    "kernelspec": {
      "name": "python3",
      "display_name": "Python 3"
    },
    "language_info": {
      "name": "python"
    }
  },
  "cells": [
    {
      "cell_type": "markdown",
      "metadata": {
        "id": "view-in-github",
        "colab_type": "text"
      },
      "source": [
        "<a href=\"https://colab.research.google.com/github/ManelSoengas/NLP_Curs/blob/main/Utilitzant_Transformers_NLP_Tasques.ipynb\" target=\"_parent\"><img src=\"https://colab.research.google.com/assets/colab-badge.svg\" alt=\"Open In Colab\"/></a>"
      ]
    },
    {
      "cell_type": "markdown",
      "source": [
        "# **NLP Tasques**\n",
        "\n",
        "---\n",
        "Es treballarà amb les següents tasques lingüístiques comunes que són essencials per treballar tant amb els models tradicionals de NLP com amb els LLM moderns:\n",
        "\n",
        "1. Classificació de fitxes\n",
        "1. Modelatge de llenguatge emmascarat (com BERT)\n",
        "1. Resum\n",
        "1. Traducció\n",
        "1. Formació prèvia al modelatge del llenguatge causal (com ara GPT-2)\n",
        "1. Resposta a preguntes\n",
        "\n",
        "Aquestes tasques fonamentals constitueixen la base del funcionament dels grans models lingüístics (LLM) i comprendre'ls és crucial per treballar eficaçment amb els models lingüístics més avançats actuals.\n"
      ],
      "metadata": {
        "id": "1YOuZvkmpTW8"
      }
    },
    {
      "cell_type": "markdown",
      "source": [
        "# **Token Classificació**\n",
        "\n",
        "---\n",
        "\n"
      ],
      "metadata": {
        "id": "BykcgNcJqAr4"
      }
    },
    {
      "cell_type": "code",
      "execution_count": null,
      "metadata": {
        "id": "GiFKD90KpJl0"
      },
      "outputs": [],
      "source": []
    }
  ]
}