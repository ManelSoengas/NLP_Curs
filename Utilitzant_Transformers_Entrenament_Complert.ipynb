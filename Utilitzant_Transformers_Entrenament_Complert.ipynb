{
  "nbformat": 4,
  "nbformat_minor": 0,
  "metadata": {
    "colab": {
      "provenance": [],
      "gpuType": "T4",
      "authorship_tag": "ABX9TyN6uEwlxWcKd7W2Dd5xJExx",
      "include_colab_link": true
    },
    "kernelspec": {
      "name": "python3",
      "display_name": "Python 3"
    },
    "language_info": {
      "name": "python"
    },
    "accelerator": "GPU"
  },
  "cells": [
    {
      "cell_type": "markdown",
      "metadata": {
        "id": "view-in-github",
        "colab_type": "text"
      },
      "source": [
        "<a href=\"https://colab.research.google.com/github/ManelSoengas/NLP_Curs/blob/main/Utilitzant_Transformers_Entrenament_Complert.ipynb\" target=\"_parent\"><img src=\"https://colab.research.google.com/assets/colab-badge.svg\" alt=\"Open In Colab\"/></a>"
      ]
    },
    {
      "cell_type": "markdown",
      "source": [
        "# **Entrenament complert**\n",
        "\n",
        "---\n",
        "Aquest procediment presenta com entrenar un model utilitzant un bucle d'entrenament personalitzat:​\n",
        "\n",
        "1. **Preprocessament de dades**: Similar a l'anterior, però amb passos addicionals com eliminar columnes no necessàries i establir el format de les dades per retornar tensors de PyTorch.​\n",
        "huggingface.co\n",
        "\n",
        "1. **Creació de DataLoaders**: S'utilitzen DataLoader de PyTorch per crear iteradors sobre els conjunts de dades d'entrenament i validació.​\n",
        "\n",
        "1. **Creació del model**: Es carrega el model amb AutoModelForSequenceClassification.​\n",
        "\n",
        "1. **Entrenament**: S'implementa un bucle d'entrenament manual, on es defineixen explícitament els passos d'entrenament i validació, incloent la pèrdua i l'optimitzador.​\n",
        "\n",
        "Aquest enfocament ofereix més flexibilitat i control sobre el procés d'entrenament, permetent personalitzacions específiques segons les necessitats del projecte.\n"
      ],
      "metadata": {
        "id": "LVf32mnvPjJb"
      }
    },
    {
      "cell_type": "markdown",
      "source": [
        "# **Preprocessament i preparació de les dades**\n",
        "\n",
        "---\n",
        "1. **Carrega del dataset**:\n"
      ],
      "metadata": {
        "id": "b-5yOqvMSW3k"
      }
    },
    {
      "cell_type": "code",
      "execution_count": null,
      "metadata": {
        "id": "lIrzJUdrS_gj"
      },
      "outputs": [],
      "source": [
        "!pip install datasets\n",
        "from datasets import load_dataset\n",
        "raw_datasets = load_dataset(\"glue\", \"mrpc\")"
      ]
    },
    {
      "cell_type": "markdown",
      "source": [
        "**2. Tokenització:**"
      ],
      "metadata": {
        "id": "lCJYyQ6kTk70"
      }
    },
    {
      "cell_type": "code",
      "source": [
        "from transformers import AutoTokenizer\n",
        "tokenizer = AutoTokenizer.from_pretrained(\"bert-base-uncased\")\n",
        "\n",
        "def tokenize_function(example):\n",
        "    return tokenizer(example[\"sentence1\"], example[\"sentence2\"], truncation=True)\n",
        "\n",
        "tokenized_datasets = raw_datasets.map(tokenize_function, batched=True)\n"
      ],
      "metadata": {
        "id": "nicXtLy7T4an"
      },
      "execution_count": null,
      "outputs": []
    },
    {
      "cell_type": "markdown",
      "source": [
        "3. **Postprocessament per adaptar el dataset al model:**\n",
        "\n",
        "  * Elimina columnes no necessàries (sentence1, sentence2, idx).\n",
        "\n",
        "  * Renombra label a labels (el model espera aquesta clau).\n",
        "\n",
        "  * Estableix el format del dataset perquè retorni tensors de PyTorch:"
      ],
      "metadata": {
        "id": "PCu1JprzUB2W"
      }
    },
    {
      "cell_type": "code",
      "source": [
        "tokenized_datasets = tokenized_datasets.remove_columns([\"sentence1\", \"sentence2\", \"idx\"])\n",
        "tokenized_datasets = tokenized_datasets.rename_column(\"label\", \"labels\")\n",
        "tokenized_datasets.set_format(\"torch\")\n"
      ],
      "metadata": {
        "id": "DCU5B-VcUMwv"
      },
      "execution_count": 3,
      "outputs": []
    },
    {
      "cell_type": "markdown",
      "source": [
        "4. **Creació de DataLoaders**:\n",
        "\n",
        "Els DataLoaders són una eina que proporciona PyTorch (i altres frameworks) per facilitar el maneig i subministrament de dades a un model durant l'entrenament o la validació.\n",
        "\n",
        "Es pot veure com un contenidor intel·ligent que:\n",
        "\n",
        "  * Accedeix al conjunt de dades,\n",
        "\n",
        "  * N’agafa mostres en lots (batches),\n",
        "\n",
        "  * Les barreja (si cal),\n",
        "\n",
        "  * I les envia al model d’una forma eficient i ordenada."
      ],
      "metadata": {
        "id": "3bG97qfgUSAc"
      }
    },
    {
      "cell_type": "code",
      "source": [
        "from torch.utils.data import DataLoader\n",
        "from transformers import DataCollatorWithPadding\n",
        "\n",
        "data_collator = DataCollatorWithPadding(tokenizer=tokenizer)\n",
        "\n",
        "train_dataloader = DataLoader(tokenized_datasets[\"train\"], shuffle=True, batch_size=8, collate_fn=data_collator)\n",
        "eval_dataloader = DataLoader(tokenized_datasets[\"validation\"], batch_size=8, collate_fn=data_collator)\n"
      ],
      "metadata": {
        "id": "dUbKtWhmUs-e"
      },
      "execution_count": 4,
      "outputs": []
    },
    {
      "cell_type": "markdown",
      "source": [
        "# **Creació i preparació del model**\n",
        "\n",
        "---\n",
        "\n",
        "\n",
        "5. **Càrrega del model amb capa de classificació:**"
      ],
      "metadata": {
        "id": "4zoYD8rTUxyr"
      }
    },
    {
      "cell_type": "code",
      "source": [
        "from transformers import AutoModelForSequenceClassification\n",
        "model = AutoModelForSequenceClassification.from_pretrained(\"bert-base-uncased\", num_labels=2)\n"
      ],
      "metadata": {
        "id": "l6veo5T_U7kf"
      },
      "execution_count": null,
      "outputs": []
    },
    {
      "cell_type": "markdown",
      "source": [
        "6. **Mou el model al dispositiu correcte (GPU si disponible):**"
      ],
      "metadata": {
        "id": "odFlCgpxVAEW"
      }
    },
    {
      "cell_type": "code",
      "source": [
        "import torch\n",
        "device = torch.device(\"cuda\") if torch.cuda.is_available() else torch.device(\"cpu\")\n",
        "model.to(device)\n"
      ],
      "metadata": {
        "id": "2vUD-ghFVG1X"
      },
      "execution_count": null,
      "outputs": []
    },
    {
      "cell_type": "markdown",
      "source": [
        "# **Configuració de l'optimitzador i scheduler**\n",
        "\n",
        "---\n",
        "\n",
        "7. **Optimitzador AdamW:**"
      ],
      "metadata": {
        "id": "Y6UQ30VBVMzm"
      }
    },
    {
      "cell_type": "code",
      "source": [
        "# from transformers import AdamW  dona error\n",
        "from torch.optim import AdamW\n",
        "\n",
        "optimizer = AdamW(model.parameters(), lr=5e-5)\n"
      ],
      "metadata": {
        "id": "J-7Fg5LsVXm3"
      },
      "execution_count": 8,
      "outputs": []
    },
    {
      "cell_type": "markdown",
      "source": [
        "8. **Scheduler de taxa d’aprenentatge lineal:**"
      ],
      "metadata": {
        "id": "N_ZK7DtJWQWE"
      }
    },
    {
      "cell_type": "code",
      "source": [
        "from transformers import get_scheduler\n",
        "num_epochs = 3\n",
        "num_training_steps = num_epochs * len(train_dataloader)\n",
        "\n",
        "lr_scheduler = get_scheduler(\n",
        "    \"linear\",\n",
        "    optimizer=optimizer,\n",
        "    num_warmup_steps=0,\n",
        "    num_training_steps=num_training_steps,\n",
        ")\n"
      ],
      "metadata": {
        "id": "zeC87VMOWTwe"
      },
      "execution_count": 9,
      "outputs": []
    },
    {
      "cell_type": "markdown",
      "source": [
        "# **Bucle d’entrenament manual**\n",
        "\n",
        "---\n",
        "\n",
        "\n",
        "10. **Entrenament amb tqdm per mostrar el progrés:**"
      ],
      "metadata": {
        "id": "U19pCAFpWbhe"
      }
    },
    {
      "cell_type": "code",
      "source": [
        "from tqdm.auto import tqdm\n",
        "\n",
        "progress_bar = tqdm(range(num_training_steps))\n",
        "model.train()\n",
        "\n",
        "for epoch in range(num_epochs):\n",
        "    for batch in train_dataloader:\n",
        "        batch = {k: v.to(device) for k, v in batch.items()}\n",
        "        outputs = model(**batch)\n",
        "        loss = outputs.loss\n",
        "        loss.backward()\n",
        "\n",
        "        optimizer.step()\n",
        "        lr_scheduler.step()\n",
        "        optimizer.zero_grad()\n",
        "        progress_bar.update(1)\n"
      ],
      "metadata": {
        "id": "RiHLR106Wg_g"
      },
      "execution_count": null,
      "outputs": []
    },
    {
      "cell_type": "markdown",
      "source": [
        "# **Bucle d’avaluació**\n",
        "\n",
        "---\n",
        "\n",
        "\n",
        "11. **Càrrega i ús de la mètrica:**"
      ],
      "metadata": {
        "id": "lwoeWlAiXBTy"
      }
    },
    {
      "cell_type": "code",
      "source": [
        "!pip install evaluate --quiet\n",
        "import evaluate\n",
        "metric = evaluate.load(\"glue\", \"mrpc\")\n",
        "model.eval()\n",
        "\n",
        "for batch in eval_dataloader:\n",
        "    batch = {k: v.to(device) for k, v in batch.items()}\n",
        "    with torch.no_grad():\n",
        "        outputs = model(**batch)\n",
        "\n",
        "    predictions = torch.argmax(outputs.logits, dim=-1)\n",
        "    metric.add_batch(predictions=predictions, references=batch[\"labels\"])\n",
        "\n",
        "print(metric.compute())\n"
      ],
      "metadata": {
        "id": "j3huHlVIXIfe"
      },
      "execution_count": null,
      "outputs": []
    }
  ]
}