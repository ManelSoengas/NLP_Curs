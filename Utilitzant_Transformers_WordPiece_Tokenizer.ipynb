{
  "nbformat": 4,
  "nbformat_minor": 0,
  "metadata": {
    "colab": {
      "provenance": [],
      "gpuType": "T4",
      "authorship_tag": "ABX9TyOwAzltljtYWyLgCE7SOGEq",
      "include_colab_link": true
    },
    "kernelspec": {
      "name": "python3",
      "display_name": "Python 3"
    },
    "language_info": {
      "name": "python"
    },
    "accelerator": "GPU"
  },
  "cells": [
    {
      "cell_type": "markdown",
      "metadata": {
        "id": "view-in-github",
        "colab_type": "text"
      },
      "source": [
        "<a href=\"https://colab.research.google.com/github/ManelSoengas/NLP_Curs/blob/main/Utilitzant_Transformers_WordPiece_Tokenizer.ipynb\" target=\"_parent\"><img src=\"https://colab.research.google.com/assets/colab-badge.svg\" alt=\"Open In Colab\"/></a>"
      ]
    },
    {
      "cell_type": "markdown",
      "source": [
        "# **Tokenització de WordPiece**\n",
        "\n",
        "---\n",
        "\n",
        "La tokenització WordPiece és un mètode de segmentació de text en “subparaules” (subwords) que s’usa àmpliament en models de transformadors com BERT.\n",
        "\n",
        "**Definició**:\n",
        "\n",
        "WordPiece comença amb un vocabulari de caràcters (per exemple lletres, dígits, símbols) i, mitjançant un procediment d’aprenentatge basat en la freqüència de seqüències, construeix un vocabulari de fragments de paraules. A l’hora de processar text nou, cada paraula es descompon en la sèrie de fragments més llarga possible que apareguin al vocabulari.\n",
        "\n",
        "**Per què serveix?**\n",
        "\n",
        "1. Reducció de la mida del vocabulari: en lloc de tenir un vocabulari gegantí amb totes les paraules possibles, només es guarden fragments comuns (p. ex., “inter”, “-essant”, “-isme”).\n",
        "\n",
        "1. Cobertura oberta (open vocabulary): permet manejar paraules mai vistes (“OOV”) segmentant-les en subparaules conegudes.\n",
        "\n",
        "1. Equilibri entre caràcters i paraules completes: evita que el model es vegi aclaparat per fragments massa petits (com en la tokenització per caràcters) o per vocabularis massa grans (com en la tokenització estrictament per paraules).\n",
        "\n",
        "1. Millora de l’aprenentatge de representacions: com que els subparaules capturen patrons morfològics (prefixos, sufixos, arrels), els embeddings aprenen millor relacions semàntiques i sintàctiques.\n",
        "\n",
        "WordPiece parteix d'un petit vocabulari que inclou les fitxes especials utilitzades pel model i l'alfabet inicial. Com que identifica subparaules afegint un prefix (com ##per a BERT), cada paraula es divideix inicialment afegint aquest prefix a tots els caràcters de la paraula.\n",
        "\n",
        "Així, l'alfabet inicial conté tots els caràcters presents al començament d'una paraula i els caràcters presents dins d'una paraula precedits del prefix WordPiece.\n"
      ],
      "metadata": {
        "id": "QiqgauK1HLzS"
      }
    },
    {
      "cell_type": "markdown",
      "source": [
        "WordPiece aprèn les regles de combinació. La diferència principal és la manera com es selecciona la parella que s'ha de combinar. En lloc de seleccionar la parella més freqüent, WordPiece calcula una puntuació per a cada parell, utilitzant la fórmula següent:\n",
        "\n",
        "![image.png](data:image/png;base64,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)"
      ],
      "metadata": {
        "id": "3K57NTuTIdZ6"
      }
    },
    {
      "cell_type": "markdown",
      "source": [
        "**Algorisme de tokenització**\n",
        "\n",
        "---\n",
        "La tokenització difereix a WordPiece i BPE, ja que WordPiece només guarda el vocabulari final, no les regles de fusió apreses. A partir de la paraula a tokenitzar, WordPiece troba la subparaula més llarga que hi ha al vocabulari i, a continuació, la divideix.\n"
      ],
      "metadata": {
        "id": "jxQ6kVCRJfxf"
      }
    },
    {
      "cell_type": "markdown",
      "source": [
        "**Implementació de WordPiece**\n",
        "\n",
        "---\n",
        "\n"
      ],
      "metadata": {
        "id": "rRWUt9KdJxJr"
      }
    },
    {
      "cell_type": "code",
      "execution_count": 1,
      "metadata": {
        "id": "lhg382ghHGIX"
      },
      "outputs": [],
      "source": [
        "corpus = [\n",
        "    \"This is the Hugging Face Course.\",\n",
        "    \"This chapter is about tokenization.\",\n",
        "    \"This section shows several tokenizer algorithms.\",\n",
        "    \"Hopefully, you will be able to understand how they are trained and generate tokens.\",\n",
        "]"
      ]
    },
    {
      "cell_type": "code",
      "source": [
        "from transformers import AutoTokenizer\n",
        "\n",
        "tokenizer = AutoTokenizer.from_pretrained(\"bert-base-cased\")"
      ],
      "metadata": {
        "id": "zU3kzAygJ6Ni"
      },
      "execution_count": null,
      "outputs": []
    },
    {
      "cell_type": "code",
      "source": [
        "#Calcular les freqüències de cada parula del corpus\n",
        "\n",
        "from collections import defaultdict\n",
        "\n",
        "word_freqs = defaultdict(int)\n",
        "for text in corpus:\n",
        "    words_with_offsets = tokenizer.backend_tokenizer.pre_tokenizer.pre_tokenize_str(text)\n",
        "    new_words = [word for word, offset in words_with_offsets]\n",
        "    for word in new_words:\n",
        "        word_freqs[word] += 1\n",
        "\n",
        "word_freqs"
      ],
      "metadata": {
        "id": "p0fR-VIwJ8E4"
      },
      "execution_count": null,
      "outputs": []
    },
    {
      "cell_type": "markdown",
      "source": [
        "L'alfabet és l'únic conjunt format per:\n",
        "\n",
        "1. Totes les primeres lletres de les paraules.\n",
        "1. I totes les altres lletres que apareixen en paraules amb el prefix **##**."
      ],
      "metadata": {
        "id": "Dfwn4y44KQ_8"
      }
    },
    {
      "cell_type": "code",
      "source": [
        "alphabet = []\n",
        "for word in word_freqs.keys():\n",
        "    if word[0] not in alphabet:\n",
        "        alphabet.append(word[0])\n",
        "    for letter in word[1:]:\n",
        "        if f\"##{letter}\" not in alphabet:\n",
        "            alphabet.append(f\"##{letter}\")\n",
        "\n",
        "alphabet.sort()\n",
        "alphabet\n",
        "\n",
        "print(alphabet)"
      ],
      "metadata": {
        "id": "clF6Z003KdrJ"
      },
      "execution_count": null,
      "outputs": []
    },
    {
      "cell_type": "code",
      "source": [
        "#També afegim les fitxes especials utilitzades pel model.\n",
        "\n",
        "vocab = [\"[PAD]\", \"[UNK]\", \"[CLS]\", \"[SEP]\", \"[MASK]\"] + alphabet.copy()"
      ],
      "metadata": {
        "id": "TNdISsJoKxoJ"
      },
      "execution_count": 5,
      "outputs": []
    },
    {
      "cell_type": "code",
      "source": [
        "# Dividir cada paraula, amb totes les lletres que no són les primeres prefixades per ##:\n",
        "\n",
        "splits = {\n",
        "    word: [c if i == 0 else f\"##{c}\" for i, c in enumerate(word)]\n",
        "    for word in word_freqs.keys()\n",
        "}"
      ],
      "metadata": {
        "id": "W_cLA357LDC3"
      },
      "execution_count": 6,
      "outputs": []
    },
    {
      "cell_type": "code",
      "source": [
        "# Ara, l'entrenament, escrivim una funció que calculi la puntuació de cada parella. Haurem d'utilitzar això a cada pas de la formació\n",
        "\n",
        "def compute_pair_scores(splits):\n",
        "    letter_freqs = defaultdict(int)\n",
        "    pair_freqs = defaultdict(int)\n",
        "    for word, freq in word_freqs.items():\n",
        "        split = splits[word]\n",
        "        if len(split) == 1:\n",
        "            letter_freqs[split[0]] += freq\n",
        "            continue\n",
        "        for i in range(len(split) - 1):\n",
        "            pair = (split[i], split[i + 1])\n",
        "            letter_freqs[split[i]] += freq\n",
        "            pair_freqs[pair] += freq\n",
        "        letter_freqs[split[-1]] += freq\n",
        "\n",
        "    scores = {\n",
        "        pair: freq / (letter_freqs[pair[0]] * letter_freqs[pair[1]])\n",
        "        for pair, freq in pair_freqs.items()\n",
        "    }\n",
        "    return scores"
      ],
      "metadata": {
        "id": "cDPXthe_LFyu"
      },
      "execution_count": 7,
      "outputs": []
    },
    {
      "cell_type": "code",
      "source": [
        "pair_scores = compute_pair_scores(splits)\n",
        "for i, key in enumerate(pair_scores.keys()):\n",
        "    print(f\"{key}: {pair_scores[key]}\")\n",
        "    if i >= 5:\n",
        "        break"
      ],
      "metadata": {
        "id": "lJVNKpQ6Lon_"
      },
      "execution_count": null,
      "outputs": []
    },
    {
      "cell_type": "code",
      "source": [
        "# La parella amb millor puntuació\n",
        "\n",
        "best_pair = \"\"\n",
        "max_score = None\n",
        "for pair, score in pair_scores.items():\n",
        "    if max_score is None or max_score < score:\n",
        "        best_pair = pair\n",
        "        max_score = score\n",
        "\n",
        "print(best_pair, max_score)"
      ],
      "metadata": {
        "id": "GlO8SruAL1Rj"
      },
      "execution_count": null,
      "outputs": []
    },
    {
      "cell_type": "code",
      "source": [
        "# Afegim al vocabulari la parella 'ab'\n",
        "\n",
        "vocab.append(\"ab\")"
      ],
      "metadata": {
        "id": "SVtY7qGAL-Iz"
      },
      "execution_count": 10,
      "outputs": []
    },
    {
      "cell_type": "code",
      "source": [
        "def merge_pair(a, b, splits):\n",
        "    for word in word_freqs:\n",
        "        split = splits[word]\n",
        "        if len(split) == 1:\n",
        "            continue\n",
        "        i = 0\n",
        "        while i < len(split) - 1:\n",
        "            if split[i] == a and split[i + 1] == b:\n",
        "                merge = a + b[2:] if b.startswith(\"##\") else a + b\n",
        "                split = split[:i] + [merge] + split[i + 2 :]\n",
        "            else:\n",
        "                i += 1\n",
        "        splits[word] = split\n",
        "    return splits"
      ],
      "metadata": {
        "id": "UpZKAcVHMK-E"
      },
      "execution_count": 11,
      "outputs": []
    },
    {
      "cell_type": "code",
      "source": [
        "splits = merge_pair(\"a\", \"##b\", splits)\n",
        "splits[\"about\"]"
      ],
      "metadata": {
        "id": "CowstcMRMMas"
      },
      "execution_count": null,
      "outputs": []
    },
    {
      "cell_type": "code",
      "source": [
        "# Aprenent les fusions i afegint-les al vocabulari\n",
        "\n",
        "vocab_size = 70\n",
        "while len(vocab) < vocab_size:\n",
        "    scores = compute_pair_scores(splits)\n",
        "    best_pair, max_score = \"\", None\n",
        "    for pair, score in scores.items():\n",
        "        if max_score is None or max_score < score:\n",
        "            best_pair = pair\n",
        "            max_score = score\n",
        "    splits = merge_pair(*best_pair, splits)\n",
        "    new_token = (\n",
        "        best_pair[0] + best_pair[1][2:]\n",
        "        if best_pair[1].startswith(\"##\")\n",
        "        else best_pair[0] + best_pair[1]\n",
        "    )\n",
        "    vocab.append(new_token)"
      ],
      "metadata": {
        "id": "GBMIIt3DMVXD"
      },
      "execution_count": 13,
      "outputs": []
    },
    {
      "cell_type": "code",
      "source": [
        "print(vocab)"
      ],
      "metadata": {
        "id": "I5l8ldf6MfE-"
      },
      "execution_count": null,
      "outputs": []
    },
    {
      "cell_type": "markdown",
      "source": [
        "**Tokenitzar un text nou**\n",
        "\n",
        "---\n",
        "\n",
        "Per tokenitzar un text nou, el pre-tokenitzem, el dividim i després apliquem l'algoritme de tokenització a cada paraula."
      ],
      "metadata": {
        "id": "XwHhe-G1MlMx"
      }
    },
    {
      "cell_type": "code",
      "source": [
        "def encode_word(word):\n",
        "    tokens = []\n",
        "    while len(word) > 0:\n",
        "        i = len(word)\n",
        "        while i > 0 and word[:i] not in vocab:\n",
        "            i -= 1\n",
        "        if i == 0:\n",
        "            return [\"[UNK]\"]\n",
        "        tokens.append(word[:i])\n",
        "        word = word[i:]\n",
        "        if len(word) > 0:\n",
        "            word = f\"##{word}\"\n",
        "    return tokens"
      ],
      "metadata": {
        "id": "e63jr2BJMvC1"
      },
      "execution_count": 15,
      "outputs": []
    },
    {
      "cell_type": "code",
      "source": [
        "print(encode_word(\"Hugging\"))\n",
        "print(encode_word(\"HOgging\"))"
      ],
      "metadata": {
        "id": "OckRHthXMzrJ"
      },
      "execution_count": null,
      "outputs": []
    },
    {
      "cell_type": "code",
      "source": [
        "# Per un text\n",
        "\n",
        "def tokenize(text):\n",
        "    pre_tokenize_result = tokenizer._tokenizer.pre_tokenizer.pre_tokenize_str(text)\n",
        "    pre_tokenized_text = [word for word, offset in pre_tokenize_result]\n",
        "    encoded_words = [encode_word(word) for word in pre_tokenized_text]\n",
        "    return sum(encoded_words, [])"
      ],
      "metadata": {
        "id": "mgUxUPzKM7Vy"
      },
      "execution_count": 17,
      "outputs": []
    },
    {
      "cell_type": "code",
      "source": [
        "tokenize(\"This is the Hugging Face course!\")"
      ],
      "metadata": {
        "id": "xhuY6C29M-Vz"
      },
      "execution_count": null,
      "outputs": []
    }
  ]
}